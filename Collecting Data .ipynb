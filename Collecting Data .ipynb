{
 "cells": [
  {
   "cell_type": "markdown",
   "id": "7301ae08",
   "metadata": {},
   "source": [
    "## Importing Dependencies "
   ]
  },
  {
   "cell_type": "code",
   "execution_count": 2,
   "id": "2ccb5088",
   "metadata": {},
   "outputs": [],
   "source": [
    "import pandas as pd\n",
    "import numpy as np\n",
    "import yfinance as yf\n",
    "import time \n",
    "import matplotlib.pyplot as plt \n",
    "\n",
    "import ignore \n",
    "warnings.filterwarnings(ignore)\n"
   ]
  },
  {
   "cell_type": "markdown",
   "id": "6a7b68d4",
   "metadata": {},
   "source": [
    "## Loading in Stock Symbols"
   ]
  },
  {
   "cell_type": "code",
   "execution_count": 3,
   "id": "c3e8ae85",
   "metadata": {},
   "outputs": [],
   "source": [
    "df = pd.read_csv(\"Resources/Stock_Code.csv\")\n",
    "sp500 = pd.read_csv(\"Resources/sp500.csv\")"
   ]
  },
  {
   "cell_type": "code",
   "execution_count": 4,
   "id": "24a954d9",
   "metadata": {},
   "outputs": [
    {
     "data": {
      "text/html": [
       "<div>\n",
       "<style scoped>\n",
       "    .dataframe tbody tr th:only-of-type {\n",
       "        vertical-align: middle;\n",
       "    }\n",
       "\n",
       "    .dataframe tbody tr th {\n",
       "        vertical-align: top;\n",
       "    }\n",
       "\n",
       "    .dataframe thead th {\n",
       "        text-align: right;\n",
       "    }\n",
       "</style>\n",
       "<table border=\"1\" class=\"dataframe\">\n",
       "  <thead>\n",
       "    <tr style=\"text-align: right;\">\n",
       "      <th></th>\n",
       "      <th>Code</th>\n",
       "      <th>Name</th>\n",
       "      <th>Country</th>\n",
       "      <th>Exchange</th>\n",
       "      <th>Currency</th>\n",
       "      <th>Type</th>\n",
       "      <th>Isin</th>\n",
       "    </tr>\n",
       "  </thead>\n",
       "  <tbody>\n",
       "    <tr>\n",
       "      <th>0</th>\n",
       "      <td>A</td>\n",
       "      <td>Agilent Technologies Inc</td>\n",
       "      <td>USA</td>\n",
       "      <td>NYSE</td>\n",
       "      <td>USD</td>\n",
       "      <td>Common Stock</td>\n",
       "      <td>US00846U1016</td>\n",
       "    </tr>\n",
       "    <tr>\n",
       "      <th>1</th>\n",
       "      <td>AA</td>\n",
       "      <td>Alcoa Corp</td>\n",
       "      <td>USA</td>\n",
       "      <td>NYSE</td>\n",
       "      <td>USD</td>\n",
       "      <td>Common Stock</td>\n",
       "      <td>US0138721065</td>\n",
       "    </tr>\n",
       "    <tr>\n",
       "      <th>2</th>\n",
       "      <td>AAA</td>\n",
       "      <td>Listed Funds Trust - AAF First Priority CLO Bo...</td>\n",
       "      <td>USA</td>\n",
       "      <td>NYSE ARCA</td>\n",
       "      <td>USD</td>\n",
       "      <td>ETF</td>\n",
       "      <td>US53656F6566</td>\n",
       "    </tr>\n",
       "    <tr>\n",
       "      <th>3</th>\n",
       "      <td>AAC</td>\n",
       "      <td>AAC Holdings Inc</td>\n",
       "      <td>USA</td>\n",
       "      <td>NYSE</td>\n",
       "      <td>USD</td>\n",
       "      <td>Common Stock</td>\n",
       "      <td>KYG330321061</td>\n",
       "    </tr>\n",
       "    <tr>\n",
       "      <th>4</th>\n",
       "      <td>AAIC</td>\n",
       "      <td>Arlington Asset Investment Corp</td>\n",
       "      <td>USA</td>\n",
       "      <td>NYSE</td>\n",
       "      <td>USD</td>\n",
       "      <td>Common Stock</td>\n",
       "      <td>US0413562051</td>\n",
       "    </tr>\n",
       "  </tbody>\n",
       "</table>\n",
       "</div>"
      ],
      "text/plain": [
       "   Code                                               Name Country   Exchange  \\\n",
       "0     A                           Agilent Technologies Inc     USA       NYSE   \n",
       "1    AA                                         Alcoa Corp     USA       NYSE   \n",
       "2   AAA  Listed Funds Trust - AAF First Priority CLO Bo...     USA  NYSE ARCA   \n",
       "3   AAC                                   AAC Holdings Inc     USA       NYSE   \n",
       "4  AAIC                    Arlington Asset Investment Corp     USA       NYSE   \n",
       "\n",
       "  Currency          Type          Isin  \n",
       "0      USD  Common Stock  US00846U1016  \n",
       "1      USD  Common Stock  US0138721065  \n",
       "2      USD           ETF  US53656F6566  \n",
       "3      USD  Common Stock  KYG330321061  \n",
       "4      USD  Common Stock  US0413562051  "
      ]
     },
     "execution_count": 4,
     "metadata": {},
     "output_type": "execute_result"
    }
   ],
   "source": [
    "df.head()"
   ]
  },
  {
   "cell_type": "code",
   "execution_count": 5,
   "id": "689e418f",
   "metadata": {},
   "outputs": [],
   "source": [
    "df.rename({\"Code\": \"Symbol\"}, axis = 1, inplace = True)"
   ]
  },
  {
   "cell_type": "code",
   "execution_count": 6,
   "id": "37821fe7",
   "metadata": {},
   "outputs": [],
   "source": [
    "NYSE = df[(df[\"Exchange\"] == \"NYSE\") & (df[\"Type\"] == \"Common Stock\")]"
   ]
  },
  {
   "cell_type": "code",
   "execution_count": 7,
   "id": "53180315",
   "metadata": {},
   "outputs": [
    {
     "data": {
      "text/html": [
       "<div>\n",
       "<style scoped>\n",
       "    .dataframe tbody tr th:only-of-type {\n",
       "        vertical-align: middle;\n",
       "    }\n",
       "\n",
       "    .dataframe tbody tr th {\n",
       "        vertical-align: top;\n",
       "    }\n",
       "\n",
       "    .dataframe thead th {\n",
       "        text-align: right;\n",
       "    }\n",
       "</style>\n",
       "<table border=\"1\" class=\"dataframe\">\n",
       "  <thead>\n",
       "    <tr style=\"text-align: right;\">\n",
       "      <th></th>\n",
       "      <th>Symbol</th>\n",
       "      <th>Name</th>\n",
       "      <th>Sector</th>\n",
       "    </tr>\n",
       "  </thead>\n",
       "  <tbody>\n",
       "    <tr>\n",
       "      <th>0</th>\n",
       "      <td>MMM</td>\n",
       "      <td>3M</td>\n",
       "      <td>Industrials</td>\n",
       "    </tr>\n",
       "    <tr>\n",
       "      <th>1</th>\n",
       "      <td>AOS</td>\n",
       "      <td>A. O. Smith</td>\n",
       "      <td>Industrials</td>\n",
       "    </tr>\n",
       "    <tr>\n",
       "      <th>2</th>\n",
       "      <td>ABT</td>\n",
       "      <td>Abbott Laboratories</td>\n",
       "      <td>Health Care</td>\n",
       "    </tr>\n",
       "    <tr>\n",
       "      <th>3</th>\n",
       "      <td>ABBV</td>\n",
       "      <td>AbbVie</td>\n",
       "      <td>Health Care</td>\n",
       "    </tr>\n",
       "    <tr>\n",
       "      <th>4</th>\n",
       "      <td>ABMD</td>\n",
       "      <td>Abiomed</td>\n",
       "      <td>Health Care</td>\n",
       "    </tr>\n",
       "  </tbody>\n",
       "</table>\n",
       "</div>"
      ],
      "text/plain": [
       "  Symbol                 Name       Sector\n",
       "0    MMM                   3M  Industrials\n",
       "1    AOS          A. O. Smith  Industrials\n",
       "2    ABT  Abbott Laboratories  Health Care\n",
       "3   ABBV               AbbVie  Health Care\n",
       "4   ABMD              Abiomed  Health Care"
      ]
     },
     "execution_count": 7,
     "metadata": {},
     "output_type": "execute_result"
    }
   ],
   "source": [
    "sp500.head()"
   ]
  },
  {
   "cell_type": "code",
   "execution_count": 8,
   "id": "c54c5a4b",
   "metadata": {},
   "outputs": [],
   "source": [
    "sp500 = sp500[[\"Symbol\", \"Sector\"]]"
   ]
  },
  {
   "cell_type": "code",
   "execution_count": 9,
   "id": "c7d30526",
   "metadata": {},
   "outputs": [],
   "source": [
    "HealthCare = sp500[sp500[\"Sector\"] == \"Health Care\"]"
   ]
  },
  {
   "cell_type": "markdown",
   "id": "6a673e6d",
   "metadata": {},
   "source": [
    "## Which holds highest precedence? \n",
    "\n",
    "-----\n",
    "\n",
    "Focus on healthcare companies - but first we need to explore which mutiple is best to describe industry. "
   ]
  },
  {
   "cell_type": "code",
   "execution_count": 10,
   "id": "85e7233b",
   "metadata": {},
   "outputs": [],
   "source": [
    "combine = pd.merge(NYSE, HealthCare, on = \"Symbol\")"
   ]
  },
  {
   "cell_type": "code",
   "execution_count": 11,
   "id": "7f35cd63",
   "metadata": {
    "scrolled": false
   },
   "outputs": [
    {
     "data": {
      "text/html": [
       "<div>\n",
       "<style scoped>\n",
       "    .dataframe tbody tr th:only-of-type {\n",
       "        vertical-align: middle;\n",
       "    }\n",
       "\n",
       "    .dataframe tbody tr th {\n",
       "        vertical-align: top;\n",
       "    }\n",
       "\n",
       "    .dataframe thead th {\n",
       "        text-align: right;\n",
       "    }\n",
       "</style>\n",
       "<table border=\"1\" class=\"dataframe\">\n",
       "  <thead>\n",
       "    <tr style=\"text-align: right;\">\n",
       "      <th></th>\n",
       "      <th>Symbol</th>\n",
       "      <th>Name</th>\n",
       "      <th>Country</th>\n",
       "      <th>Exchange</th>\n",
       "      <th>Currency</th>\n",
       "      <th>Type</th>\n",
       "      <th>Isin</th>\n",
       "      <th>Sector</th>\n",
       "    </tr>\n",
       "  </thead>\n",
       "  <tbody>\n",
       "    <tr>\n",
       "      <th>0</th>\n",
       "      <td>A</td>\n",
       "      <td>Agilent Technologies Inc</td>\n",
       "      <td>USA</td>\n",
       "      <td>NYSE</td>\n",
       "      <td>USD</td>\n",
       "      <td>Common Stock</td>\n",
       "      <td>US00846U1016</td>\n",
       "      <td>Health Care</td>\n",
       "    </tr>\n",
       "    <tr>\n",
       "      <th>1</th>\n",
       "      <td>ABBV</td>\n",
       "      <td>AbbVie Inc</td>\n",
       "      <td>USA</td>\n",
       "      <td>NYSE</td>\n",
       "      <td>USD</td>\n",
       "      <td>Common Stock</td>\n",
       "      <td>US00287Y1091</td>\n",
       "      <td>Health Care</td>\n",
       "    </tr>\n",
       "    <tr>\n",
       "      <th>2</th>\n",
       "      <td>ABC</td>\n",
       "      <td>AmerisourceBergen</td>\n",
       "      <td>USA</td>\n",
       "      <td>NYSE</td>\n",
       "      <td>USD</td>\n",
       "      <td>Common Stock</td>\n",
       "      <td>US03073E1055</td>\n",
       "      <td>Health Care</td>\n",
       "    </tr>\n",
       "    <tr>\n",
       "      <th>3</th>\n",
       "      <td>ABT</td>\n",
       "      <td>Abbott Laboratories</td>\n",
       "      <td>USA</td>\n",
       "      <td>NYSE</td>\n",
       "      <td>USD</td>\n",
       "      <td>Common Stock</td>\n",
       "      <td>US0028241000</td>\n",
       "      <td>Health Care</td>\n",
       "    </tr>\n",
       "    <tr>\n",
       "      <th>4</th>\n",
       "      <td>BAX</td>\n",
       "      <td>Baxter International Inc</td>\n",
       "      <td>USA</td>\n",
       "      <td>NYSE</td>\n",
       "      <td>USD</td>\n",
       "      <td>Common Stock</td>\n",
       "      <td>US0718131099</td>\n",
       "      <td>Health Care</td>\n",
       "    </tr>\n",
       "  </tbody>\n",
       "</table>\n",
       "</div>"
      ],
      "text/plain": [
       "  Symbol                      Name Country Exchange Currency          Type  \\\n",
       "0      A  Agilent Technologies Inc     USA     NYSE      USD  Common Stock   \n",
       "1   ABBV                AbbVie Inc     USA     NYSE      USD  Common Stock   \n",
       "2    ABC         AmerisourceBergen     USA     NYSE      USD  Common Stock   \n",
       "3    ABT       Abbott Laboratories     USA     NYSE      USD  Common Stock   \n",
       "4    BAX  Baxter International Inc     USA     NYSE      USD  Common Stock   \n",
       "\n",
       "           Isin       Sector  \n",
       "0  US00846U1016  Health Care  \n",
       "1  US00287Y1091  Health Care  \n",
       "2  US03073E1055  Health Care  \n",
       "3  US0028241000  Health Care  \n",
       "4  US0718131099  Health Care  "
      ]
     },
     "execution_count": 11,
     "metadata": {},
     "output_type": "execute_result"
    }
   ],
   "source": [
    "combine.head()"
   ]
  },
  {
   "cell_type": "markdown",
   "id": "d5564608",
   "metadata": {},
   "source": [
    "## Extraction of  Meta Data to Rank Companies \n",
    "-----\n",
    "\n",
    "* We can have a lot more columns than these, in fact over 50+ columns. I just choose a few - we should probably rank the companies that we would want to invest in based on key statistical insights. "
   ]
  },
  {
   "cell_type": "code",
   "execution_count": 12,
   "id": "9d380629",
   "metadata": {},
   "outputs": [
    {
     "name": "stdout",
     "output_type": "stream",
     "text": [
      "Commence Extraction of yfinance.Ticker object <A> data\n",
      "Commence Extraction of yfinance.Ticker object <ABBV> data\n",
      "Commence Extraction of yfinance.Ticker object <ABC> data\n",
      "Commence Extraction of yfinance.Ticker object <ABT> data\n",
      "Commence Extraction of yfinance.Ticker object <BAX> data\n",
      "Commence Extraction of yfinance.Ticker object <BDX> data\n",
      "Commence Extraction of yfinance.Ticker object <BIO> data\n",
      "yfinance.Ticker object <BIO> not found\n",
      "Commence Extraction of yfinance.Ticker object <BMY> data\n",
      "Commence Extraction of yfinance.Ticker object <BSX> data\n",
      "Commence Extraction of yfinance.Ticker object <CAH> data\n",
      "yfinance.Ticker object <CAH> not found\n",
      "Commence Extraction of yfinance.Ticker object <CI> data\n",
      "Commence Extraction of yfinance.Ticker object <CNC> data\n",
      "Commence Extraction of yfinance.Ticker object <COO> data\n",
      "Commence Extraction of yfinance.Ticker object <CRL> data\n",
      "Commence Extraction of yfinance.Ticker object <CTLT> data\n",
      "Commence Extraction of yfinance.Ticker object <CVS> data\n",
      "Commence Extraction of yfinance.Ticker object <DGX> data\n",
      "Commence Extraction of yfinance.Ticker object <DHR> data\n",
      "Commence Extraction of yfinance.Ticker object <DVA> data\n",
      "Commence Extraction of yfinance.Ticker object <EW> data\n",
      "Commence Extraction of yfinance.Ticker object <HCA> data\n",
      "Commence Extraction of yfinance.Ticker object <HUM> data\n",
      "Commence Extraction of yfinance.Ticker object <IQV> data\n",
      "Commence Extraction of yfinance.Ticker object <JNJ> data\n",
      "Commence Extraction of yfinance.Ticker object <LH> data\n",
      "Commence Extraction of yfinance.Ticker object <LLY> data\n",
      "Commence Extraction of yfinance.Ticker object <MCK> data\n",
      "Commence Extraction of yfinance.Ticker object <MDT> data\n",
      "Commence Extraction of yfinance.Ticker object <MRK> data\n",
      "Commence Extraction of yfinance.Ticker object <MTD> data\n",
      "Commence Extraction of yfinance.Ticker object <OGN> data\n",
      "Commence Extraction of yfinance.Ticker object <PFE> data\n",
      "Commence Extraction of yfinance.Ticker object <PKI> data\n",
      "Commence Extraction of yfinance.Ticker object <RMD> data\n",
      "Commence Extraction of yfinance.Ticker object <STE> data\n",
      "Commence Extraction of yfinance.Ticker object <SYK> data\n",
      "Commence Extraction of yfinance.Ticker object <TFX> data\n",
      "Commence Extraction of yfinance.Ticker object <TMO> data\n",
      "Commence Extraction of yfinance.Ticker object <UHS> data\n",
      "Commence Extraction of yfinance.Ticker object <UNH> data\n",
      "Commence Extraction of yfinance.Ticker object <WAT> data\n",
      "Commence Extraction of yfinance.Ticker object <WST> data\n",
      "Commence Extraction of yfinance.Ticker object <ZBH> data\n",
      "Commence Extraction of yfinance.Ticker object <ZTS> data\n"
     ]
    }
   ],
   "source": [
    "### Creation of Empty Columns to iterrow\n",
    "\n",
    "combine[\"Price/Book\"] = \"\"\n",
    "combine[\"PEG Ratio\"] = \"\"\n",
    "combine[\"Foward PE\"] = \"\"\n",
    "combine[\"Trailing PE\"] = \"\"\n",
    "combine[\"Total Debt/Equity\"] = \"\"\n",
    "\n",
    "for index, row in combine.iterrows():\n",
    "    \n",
    "    try:\n",
    "    \n",
    "        symbol = yf.Ticker(combine.loc[index, \"Symbol\"])\n",
    "    \n",
    "        print(f\"Commence Extraction of {symbol} data\")\n",
    "        time.sleep(2)\n",
    "        info = symbol.info\n",
    "        combine.loc[index, \"Price/Book\"] = info[\"priceToBook\"]\n",
    "        combine.loc[index, \"PEG Ratio\"] = info[\"pegRatio\"]\n",
    "        combine.loc[index, \"Foward PE\"] = info[\"forwardPE\"]\n",
    "        combine.loc[index, \"Trailing PE\"] = info[\"trailingPE\"]\n",
    "        combine.loc[index, \"Total Debt/Equity\"] = info[\"debtToEquity\"]\n",
    "        \n",
    "        \n",
    "    except Exception:\n",
    "        print(f\"{symbol} not found\")"
   ]
  },
  {
   "cell_type": "markdown",
   "id": "ab2f0016",
   "metadata": {},
   "source": [
    "# Investigation: Which stocks may be a good investment? And If so, what is the linear regression of the futures?\n",
    "----\n",
    "\n",
    "* Overvalued stock presents an opportunity to go \"Short\" \n",
    "* Undervalued stock presents an opportunity to go \"Long\"\n",
    "* By categorizing the stocks in healthcare or any other industry, we can provide insights whether to short or go long on certain stocks \n",
    "*U\n",
    "\n",
    "## Meaning of Valuations Measurements \n",
    "----\n",
    "\n",
    "| Column        | Definition                                                                                                                                                                                                                                                |\n",
    "|---------------|-----------------------------------------------------------------------------------------------------------------------------------------------------------------------------------------------------------------------------------------------------------|\n",
    "| PEG           | Price/Earning to Growth Ratio. This is a measurement of how under/over valued a stock is - if the PEG is less than 1.0, it suggest that the stock is undervalued, and vise-versa if above 1. If this value is negative then the company is losing money.  |\n",
    "| Price/Book    | Measures the valuation of the company values to the its book value. Price to Book under 1 showcases that the stock is undervalued whereas above 1 suggest that the stock is overvalued.                                                                   |\n",
    "| Price/Earning | A P/E (Market Value per Share/ Earning Per Share) ratio holds the most value to an analyst when compared against similar  companies in the same industry. A high P/E means that the stock is over-valued - expected high growth.                          |"
   ]
  },
  {
   "cell_type": "markdown",
   "id": "50834de4",
   "metadata": {},
   "source": [
    "## Project Agenda \n",
    "\n",
    "1) Analyze Companies respective to Health Care industry - over or under valued \n",
    "\n",
    "2) Growth Rate (Net Income) of each company \n",
    "\n",
    "3) Make visualize for the close price of stocks, linear regression prediction\n",
    "\n",
    "4) Qualitative Analysis "
   ]
  },
  {
   "cell_type": "code",
   "execution_count": 13,
   "id": "881a5785",
   "metadata": {},
   "outputs": [
    {
     "data": {
      "text/html": [
       "<div>\n",
       "<style scoped>\n",
       "    .dataframe tbody tr th:only-of-type {\n",
       "        vertical-align: middle;\n",
       "    }\n",
       "\n",
       "    .dataframe tbody tr th {\n",
       "        vertical-align: top;\n",
       "    }\n",
       "\n",
       "    .dataframe thead th {\n",
       "        text-align: right;\n",
       "    }\n",
       "</style>\n",
       "<table border=\"1\" class=\"dataframe\">\n",
       "  <thead>\n",
       "    <tr style=\"text-align: right;\">\n",
       "      <th></th>\n",
       "      <th>Symbol</th>\n",
       "      <th>Name</th>\n",
       "      <th>Country</th>\n",
       "      <th>Exchange</th>\n",
       "      <th>Currency</th>\n",
       "      <th>Type</th>\n",
       "      <th>Isin</th>\n",
       "      <th>Sector</th>\n",
       "      <th>Price/Book</th>\n",
       "      <th>PEG Ratio</th>\n",
       "      <th>Foward PE</th>\n",
       "      <th>Trailing PE</th>\n",
       "      <th>Total Debt/Equity</th>\n",
       "    </tr>\n",
       "  </thead>\n",
       "  <tbody>\n",
       "    <tr>\n",
       "      <th>0</th>\n",
       "      <td>A</td>\n",
       "      <td>Agilent Technologies Inc</td>\n",
       "      <td>USA</td>\n",
       "      <td>NYSE</td>\n",
       "      <td>USD</td>\n",
       "      <td>Common Stock</td>\n",
       "      <td>US00846U1016</td>\n",
       "      <td>Health Care</td>\n",
       "      <td>8.516928</td>\n",
       "      <td>2.3</td>\n",
       "      <td>24.315285</td>\n",
       "      <td>36.5311</td>\n",
       "      <td>52.354</td>\n",
       "    </tr>\n",
       "    <tr>\n",
       "      <th>1</th>\n",
       "      <td>ABBV</td>\n",
       "      <td>AbbVie Inc</td>\n",
       "      <td>USA</td>\n",
       "      <td>NYSE</td>\n",
       "      <td>USD</td>\n",
       "      <td>Common Stock</td>\n",
       "      <td>US00287Y1091</td>\n",
       "      <td>Health Care</td>\n",
       "      <td>18.126936</td>\n",
       "      <td>-29.5</td>\n",
       "      <td>14.120586</td>\n",
       "      <td>21.858667</td>\n",
       "      <td>436.757</td>\n",
       "    </tr>\n",
       "    <tr>\n",
       "      <th>2</th>\n",
       "      <td>ABC</td>\n",
       "      <td>AmerisourceBergen</td>\n",
       "      <td>USA</td>\n",
       "      <td>NYSE</td>\n",
       "      <td>USD</td>\n",
       "      <td>Common Stock</td>\n",
       "      <td>US03073E1055</td>\n",
       "      <td>Health Care</td>\n",
       "      <td>None</td>\n",
       "      <td>1.74</td>\n",
       "      <td>13.572107</td>\n",
       "      <td>21.303482</td>\n",
       "      <td>9435.978</td>\n",
       "    </tr>\n",
       "    <tr>\n",
       "      <th>3</th>\n",
       "      <td>ABT</td>\n",
       "      <td>Abbott Laboratories</td>\n",
       "      <td>USA</td>\n",
       "      <td>NYSE</td>\n",
       "      <td>USD</td>\n",
       "      <td>Common Stock</td>\n",
       "      <td>US0028241000</td>\n",
       "      <td>Health Care</td>\n",
       "      <td>5.151752</td>\n",
       "      <td>2.5</td>\n",
       "      <td>23.902496</td>\n",
       "      <td>23.794584</td>\n",
       "      <td>46.204</td>\n",
       "    </tr>\n",
       "    <tr>\n",
       "      <th>4</th>\n",
       "      <td>BAX</td>\n",
       "      <td>Baxter International Inc</td>\n",
       "      <td>USA</td>\n",
       "      <td>NYSE</td>\n",
       "      <td>USD</td>\n",
       "      <td>Common Stock</td>\n",
       "      <td>US0718131099</td>\n",
       "      <td>Health Care</td>\n",
       "      <td>4.671706</td>\n",
       "      <td>2.66</td>\n",
       "      <td>14.093406</td>\n",
       "      <td>25.65</td>\n",
       "      <td>302.671</td>\n",
       "    </tr>\n",
       "  </tbody>\n",
       "</table>\n",
       "</div>"
      ],
      "text/plain": [
       "  Symbol                      Name Country Exchange Currency          Type  \\\n",
       "0      A  Agilent Technologies Inc     USA     NYSE      USD  Common Stock   \n",
       "1   ABBV                AbbVie Inc     USA     NYSE      USD  Common Stock   \n",
       "2    ABC         AmerisourceBergen     USA     NYSE      USD  Common Stock   \n",
       "3    ABT       Abbott Laboratories     USA     NYSE      USD  Common Stock   \n",
       "4    BAX  Baxter International Inc     USA     NYSE      USD  Common Stock   \n",
       "\n",
       "           Isin       Sector Price/Book PEG Ratio  Foward PE Trailing PE  \\\n",
       "0  US00846U1016  Health Care   8.516928       2.3  24.315285     36.5311   \n",
       "1  US00287Y1091  Health Care  18.126936     -29.5  14.120586   21.858667   \n",
       "2  US03073E1055  Health Care       None      1.74  13.572107   21.303482   \n",
       "3  US0028241000  Health Care   5.151752       2.5  23.902496   23.794584   \n",
       "4  US0718131099  Health Care   4.671706      2.66  14.093406       25.65   \n",
       "\n",
       "  Total Debt/Equity  \n",
       "0            52.354  \n",
       "1           436.757  \n",
       "2          9435.978  \n",
       "3            46.204  \n",
       "4           302.671  "
      ]
     },
     "execution_count": 13,
     "metadata": {},
     "output_type": "execute_result"
    }
   ],
   "source": [
    "combine.head()"
   ]
  },
  {
   "cell_type": "code",
   "execution_count": 14,
   "id": "794df462",
   "metadata": {},
   "outputs": [],
   "source": [
    "combine.to_csv(\"Output/SummaryStockData.csv\", index = False)"
   ]
  },
  {
   "cell_type": "code",
   "execution_count": 3,
   "id": "2fb7f444",
   "metadata": {},
   "outputs": [],
   "source": [
    "combine = pd.read_csv(\"Output/SummaryStockData.csv\")"
   ]
  },
  {
   "cell_type": "markdown",
   "id": "82e24d7a",
   "metadata": {},
   "source": [
    "### Boxplot of Valuation Ratios in the HealthCare Industry"
   ]
  },
  {
   "cell_type": "code",
   "execution_count": 16,
   "id": "52eb51d8",
   "metadata": {},
   "outputs": [],
   "source": [
    "combine = combine.replace(\"None\", 0)\n",
    "combine = combine.fillna(0)"
   ]
  },
  {
   "cell_type": "code",
   "execution_count": 5,
   "id": "7d337cab",
   "metadata": {},
   "outputs": [],
   "source": [
    "columns = ['Price/Book', 'PEG Ratio', 'Foward PE', 'Trailing PE']\n",
    "\n",
    "for column in columns:\n",
    "    combine[column] = combine[column].astype(float)"
   ]
  },
  {
   "cell_type": "code",
   "execution_count": 6,
   "id": "f4334037",
   "metadata": {
    "scrolled": false
   },
   "outputs": [
    {
     "data": {
      "image/png": "[encoded data removed]",
      "text/plain": [
       "<Figure size 432x288 with 1 Axes>"
      ]
     },
     "metadata": {
      "needs_background": "light"
     },
     "output_type": "display_data"
    }
   ],
   "source": [
    "#formating fliers \n",
    "flierprops = dict(marker='o', markerfacecolor='r', markersize=12,\n",
    "                  linestyle='none', markeredgecolor='g')\n",
    "\n",
    "combine.boxplot(column = columns, flierprops=flierprops,\n",
    "               grid = False)\n",
    "\n",
    "plt.title(\"Valuation Ratios in Health Care Industry\")\n",
    "\n",
    "plt.show()"
   ]
  },
  {
   "cell_type": "markdown",
   "id": "6ca452a4",
   "metadata": {},
   "source": [
    "## Calculating Outliers Scores"
   ]
  },
  {
   "cell_type": "code",
   "execution_count": 7,
   "id": "054ab85d",
   "metadata": {},
   "outputs": [],
   "source": [
    "upper = {}\n",
    "\n",
    "lower = {}\n",
    "\n",
    "for column in columns:\n",
    "    quartiles = combine[column].quantile([0.25, 0.5, 0.75])\n",
    "    \n",
    "    upperq = quartiles[0.75]\n",
    "    lowerq = quartiles[0.25]\n",
    "    \n",
    "    upper[column] = upperq\n",
    "    lower[column] = lowerq"
   ]
  },
  {
   "cell_type": "code",
   "execution_count": 9,
   "id": "d787eccf",
   "metadata": {},
   "outputs": [],
   "source": [
    "# define function to score stocks \n",
    "def score(df):\n",
    "    \n",
    "    score = 0\n",
    "    \n",
    "    if df[\"Price/Book\"] <= lower[\"Price/Book\"]:\n",
    "        score += 1       \n",
    "    elif df[\"Price/Book\"] >= upper[\"Price/Book\"]:\n",
    "        score -= 1 \n",
    "        \n",
    "    elif df[\"PEG Ratio\"] <= lower[\"PEG Ratio\"]:\n",
    "        score += 1     \n",
    "    elif df[\"PEG Ratio\"] >= upper[\"PEG Ratio\"]:\n",
    "        score -= 1\n",
    "        \n",
    "    elif df[\"Foward PE\"] <= lower[\"Foward PE\"]:\n",
    "        score += 1    \n",
    "    elif df[\"Foward PE\"] >= upper[\"Foward PE\"]:\n",
    "        score -= 1    \n",
    "        \n",
    "    elif df[\"Trailing PE\"] <= lower[\"Trailing PE\"]:\n",
    "        score += 1     \n",
    "    elif df[\"Trailing PE\"] >= upper[\"Trailing PE\"]:\n",
    "        score -= 1    \n",
    "        \n",
    "    return score "
   ]
  },
  {
   "cell_type": "code",
   "execution_count": null,
   "id": "1b1360ec",
   "metadata": {},
   "outputs": [],
   "source": [
    "combine[\"score\"] = combine.apply(score, axis = 1)"
   ]
  },
  {
   "cell_type": "code",
   "execution_count": 94,
   "id": "207619ca",
   "metadata": {},
   "outputs": [
    {
     "data": {
      "text/html": [
       "<div>\n",
       "<style scoped>\n",
       "    .dataframe tbody tr th:only-of-type {\n",
       "        vertical-align: middle;\n",
       "    }\n",
       "\n",
       "    .dataframe tbody tr th {\n",
       "        vertical-align: top;\n",
       "    }\n",
       "\n",
       "    .dataframe thead th {\n",
       "        text-align: right;\n",
       "    }\n",
       "</style>\n",
       "<table border=\"1\" class=\"dataframe\">\n",
       "  <thead>\n",
       "    <tr style=\"text-align: right;\">\n",
       "      <th></th>\n",
       "      <th>Symbol</th>\n",
       "      <th>Name</th>\n",
       "      <th>Country</th>\n",
       "      <th>Exchange</th>\n",
       "      <th>Currency</th>\n",
       "      <th>Type</th>\n",
       "      <th>Isin</th>\n",
       "      <th>Sector</th>\n",
       "      <th>Price/Book</th>\n",
       "      <th>PEG Ratio</th>\n",
       "      <th>Foward PE</th>\n",
       "      <th>Trailing PE</th>\n",
       "      <th>Total Debt/Equity</th>\n",
       "      <th>score</th>\n",
       "    </tr>\n",
       "  </thead>\n",
       "  <tbody>\n",
       "    <tr>\n",
       "      <th>30</th>\n",
       "      <td>OGN</td>\n",
       "      <td>Organon &amp; Co</td>\n",
       "      <td>USA</td>\n",
       "      <td>NYSE</td>\n",
       "      <td>USD</td>\n",
       "      <td>Common Stock</td>\n",
       "      <td>US68622V1061</td>\n",
       "      <td>Health Care</td>\n",
       "      <td>NaN</td>\n",
       "      <td>-1.72</td>\n",
       "      <td>5.444215</td>\n",
       "      <td>6.654040</td>\n",
       "      <td>NaN</td>\n",
       "      <td>1</td>\n",
       "    </tr>\n",
       "    <tr>\n",
       "      <th>32</th>\n",
       "      <td>PKI</td>\n",
       "      <td>PerkinElmer Inc</td>\n",
       "      <td>USA</td>\n",
       "      <td>NYSE</td>\n",
       "      <td>USD</td>\n",
       "      <td>Common Stock</td>\n",
       "      <td>US7140461093</td>\n",
       "      <td>Health Care</td>\n",
       "      <td>2.446449</td>\n",
       "      <td>-1.29</td>\n",
       "      <td>22.709784</td>\n",
       "      <td>26.693956</td>\n",
       "      <td>64.325</td>\n",
       "      <td>1</td>\n",
       "    </tr>\n",
       "    <tr>\n",
       "      <th>16</th>\n",
       "      <td>DGX</td>\n",
       "      <td>Quest Diagnostics Incorporated</td>\n",
       "      <td>USA</td>\n",
       "      <td>NYSE</td>\n",
       "      <td>USD</td>\n",
       "      <td>Common Stock</td>\n",
       "      <td>US74834L1008</td>\n",
       "      <td>Health Care</td>\n",
       "      <td>2.722835</td>\n",
       "      <td>-0.98</td>\n",
       "      <td>17.540636</td>\n",
       "      <td>14.614328</td>\n",
       "      <td>73.082</td>\n",
       "      <td>1</td>\n",
       "    </tr>\n",
       "    <tr>\n",
       "      <th>24</th>\n",
       "      <td>LH</td>\n",
       "      <td>Laboratory Corporation of America Holdings</td>\n",
       "      <td>USA</td>\n",
       "      <td>NYSE</td>\n",
       "      <td>USD</td>\n",
       "      <td>Common Stock</td>\n",
       "      <td>US50540R4092</td>\n",
       "      <td>Health Care</td>\n",
       "      <td>2.098707</td>\n",
       "      <td>-0.88</td>\n",
       "      <td>13.400794</td>\n",
       "      <td>12.587326</td>\n",
       "      <td>62.838</td>\n",
       "      <td>1</td>\n",
       "    </tr>\n",
       "    <tr>\n",
       "      <th>11</th>\n",
       "      <td>CNC</td>\n",
       "      <td>Centene Corp</td>\n",
       "      <td>USA</td>\n",
       "      <td>NYSE</td>\n",
       "      <td>USD</td>\n",
       "      <td>Common Stock</td>\n",
       "      <td>US15135B1017</td>\n",
       "      <td>Health Care</td>\n",
       "      <td>1.939752</td>\n",
       "      <td>1.09</td>\n",
       "      <td>13.619873</td>\n",
       "      <td>25.397058</td>\n",
       "      <td>84.234</td>\n",
       "      <td>1</td>\n",
       "    </tr>\n",
       "    <tr>\n",
       "      <th>10</th>\n",
       "      <td>CI</td>\n",
       "      <td>Cigna Corp</td>\n",
       "      <td>USA</td>\n",
       "      <td>NYSE</td>\n",
       "      <td>USD</td>\n",
       "      <td>Common Stock</td>\n",
       "      <td>US1255231003</td>\n",
       "      <td>Health Care</td>\n",
       "      <td>2.218405</td>\n",
       "      <td>1.24</td>\n",
       "      <td>13.185261</td>\n",
       "      <td>15.717236</td>\n",
       "      <td>71.076</td>\n",
       "      <td>1</td>\n",
       "    </tr>\n",
       "    <tr>\n",
       "      <th>28</th>\n",
       "      <td>MRK</td>\n",
       "      <td>Merck &amp; Company Inc</td>\n",
       "      <td>USA</td>\n",
       "      <td>NYSE</td>\n",
       "      <td>USD</td>\n",
       "      <td>Common Stock</td>\n",
       "      <td>US58933Y1055</td>\n",
       "      <td>Health Care</td>\n",
       "      <td>6.268733</td>\n",
       "      <td>1.28</td>\n",
       "      <td>14.570861</td>\n",
       "      <td>18.243780</td>\n",
       "      <td>68.318</td>\n",
       "      <td>1</td>\n",
       "    </tr>\n",
       "    <tr>\n",
       "      <th>9</th>\n",
       "      <td>CAH</td>\n",
       "      <td>Cardinal Health Inc</td>\n",
       "      <td>USA</td>\n",
       "      <td>NYSE</td>\n",
       "      <td>USD</td>\n",
       "      <td>Common Stock</td>\n",
       "      <td>US14149Y1082</td>\n",
       "      <td>Health Care</td>\n",
       "      <td>NaN</td>\n",
       "      <td>1.48</td>\n",
       "      <td>12.676236</td>\n",
       "      <td>NaN</td>\n",
       "      <td>NaN</td>\n",
       "      <td>1</td>\n",
       "    </tr>\n",
       "    <tr>\n",
       "      <th>6</th>\n",
       "      <td>BIO</td>\n",
       "      <td>Bio-Rad Laboratories Inc</td>\n",
       "      <td>USA</td>\n",
       "      <td>NYSE</td>\n",
       "      <td>USD</td>\n",
       "      <td>Common Stock</td>\n",
       "      <td>US0905722072</td>\n",
       "      <td>Health Care</td>\n",
       "      <td>1.431616</td>\n",
       "      <td>1.63</td>\n",
       "      <td>26.891320</td>\n",
       "      <td>NaN</td>\n",
       "      <td>NaN</td>\n",
       "      <td>1</td>\n",
       "    </tr>\n",
       "    <tr>\n",
       "      <th>2</th>\n",
       "      <td>ABC</td>\n",
       "      <td>AmerisourceBergen</td>\n",
       "      <td>USA</td>\n",
       "      <td>NYSE</td>\n",
       "      <td>USD</td>\n",
       "      <td>Common Stock</td>\n",
       "      <td>US03073E1055</td>\n",
       "      <td>Health Care</td>\n",
       "      <td>NaN</td>\n",
       "      <td>1.74</td>\n",
       "      <td>13.572107</td>\n",
       "      <td>21.303482</td>\n",
       "      <td>9435.978</td>\n",
       "      <td>1</td>\n",
       "    </tr>\n",
       "  </tbody>\n",
       "</table>\n",
       "</div>"
      ],
      "text/plain": [
       "   Symbol                                        Name Country Exchange  \\\n",
       "30    OGN                                Organon & Co     USA     NYSE   \n",
       "32    PKI                             PerkinElmer Inc     USA     NYSE   \n",
       "16    DGX              Quest Diagnostics Incorporated     USA     NYSE   \n",
       "24     LH  Laboratory Corporation of America Holdings     USA     NYSE   \n",
       "11    CNC                                Centene Corp     USA     NYSE   \n",
       "10     CI                                  Cigna Corp     USA     NYSE   \n",
       "28    MRK                         Merck & Company Inc     USA     NYSE   \n",
       "9     CAH                         Cardinal Health Inc     USA     NYSE   \n",
       "6     BIO                    Bio-Rad Laboratories Inc     USA     NYSE   \n",
       "2     ABC                           AmerisourceBergen     USA     NYSE   \n",
       "\n",
       "   Currency          Type          Isin       Sector  Price/Book  PEG Ratio  \\\n",
       "30      USD  Common Stock  US68622V1061  Health Care         NaN      -1.72   \n",
       "32      USD  Common Stock  US7140461093  Health Care    2.446449      -1.29   \n",
       "16      USD  Common Stock  US74834L1008  Health Care    2.722835      -0.98   \n",
       "24      USD  Common Stock  US50540R4092  Health Care    2.098707      -0.88   \n",
       "11      USD  Common Stock  US15135B1017  Health Care    1.939752       1.09   \n",
       "10      USD  Common Stock  US1255231003  Health Care    2.218405       1.24   \n",
       "28      USD  Common Stock  US58933Y1055  Health Care    6.268733       1.28   \n",
       "9       USD  Common Stock  US14149Y1082  Health Care         NaN       1.48   \n",
       "6       USD  Common Stock  US0905722072  Health Care    1.431616       1.63   \n",
       "2       USD  Common Stock  US03073E1055  Health Care         NaN       1.74   \n",
       "\n",
       "    Foward PE  Trailing PE  Total Debt/Equity  score  \n",
       "30   5.444215     6.654040                NaN      1  \n",
       "32  22.709784    26.693956             64.325      1  \n",
       "16  17.540636    14.614328             73.082      1  \n",
       "24  13.400794    12.587326             62.838      1  \n",
       "11  13.619873    25.397058             84.234      1  \n",
       "10  13.185261    15.717236             71.076      1  \n",
       "28  14.570861    18.243780             68.318      1  \n",
       "9   12.676236          NaN                NaN      1  \n",
       "6   26.891320          NaN                NaN      1  \n",
       "2   13.572107    21.303482           9435.978      1  "
      ]
     },
     "execution_count": 94,
     "metadata": {},
     "output_type": "execute_result"
    }
   ],
   "source": [
    "undervalued = combine.sort_values(by = [\"score\", \"PEG Ratio\"], ascending = [False, True])\n",
    "undervalued.head(10)"
   ]
  },
  {
   "cell_type": "markdown",
   "id": "55e1685f",
   "metadata": {},
   "source": [
    "## Loop to Extract Data "
   ]
  },
  {
   "cell_type": "code",
   "execution_count": 36,
   "id": "d74b67e9",
   "metadata": {},
   "outputs": [],
   "source": [
    "symbols = undervalued[\"Symbol\"].head(10).to_list()"
   ]
  },
  {
   "cell_type": "code",
   "execution_count": 70,
   "id": "b98a8275",
   "metadata": {
    "collapsed": true
   },
   "outputs": [
    {
     "name": "stdout",
     "output_type": "stream",
     "text": [
      "Begin Extraction of Ticker\n"
     ]
    },
    {
     "name": "stderr",
     "output_type": "stream",
     "text": [
      "/var/folders/4g/011mcyls15v476x5cqlrm5sm0000gn/T/ipykernel_2243/1333826002.py:14: SettingWithCopyWarning: \n",
      "A value is trying to be set on a copy of a slice from a DataFrame.\n",
      "Try using .loc[row_indexer,col_indexer] = value instead\n",
      "\n",
      "See the caveats in the documentation: https://pandas.pydata.org/pandas-docs/stable/user_guide/indexing.html#returning-a-view-versus-a-copy\n",
      "  isolate[\"Symbol\"] = symbol\n"
     ]
    },
    {
     "name": "stdout",
     "output_type": "stream",
     "text": [
      "OGN has been extracted\n"
     ]
    },
    {
     "name": "stderr",
     "output_type": "stream",
     "text": [
      "/var/folders/4g/011mcyls15v476x5cqlrm5sm0000gn/T/ipykernel_2243/1333826002.py:14: SettingWithCopyWarning: \n",
      "A value is trying to be set on a copy of a slice from a DataFrame.\n",
      "Try using .loc[row_indexer,col_indexer] = value instead\n",
      "\n",
      "See the caveats in the documentation: https://pandas.pydata.org/pandas-docs/stable/user_guide/indexing.html#returning-a-view-versus-a-copy\n",
      "  isolate[\"Symbol\"] = symbol\n"
     ]
    },
    {
     "name": "stdout",
     "output_type": "stream",
     "text": [
      "PKI has been extracted\n"
     ]
    },
    {
     "name": "stderr",
     "output_type": "stream",
     "text": [
      "/var/folders/4g/011mcyls15v476x5cqlrm5sm0000gn/T/ipykernel_2243/1333826002.py:14: SettingWithCopyWarning: \n",
      "A value is trying to be set on a copy of a slice from a DataFrame.\n",
      "Try using .loc[row_indexer,col_indexer] = value instead\n",
      "\n",
      "See the caveats in the documentation: https://pandas.pydata.org/pandas-docs/stable/user_guide/indexing.html#returning-a-view-versus-a-copy\n",
      "  isolate[\"Symbol\"] = symbol\n"
     ]
    },
    {
     "name": "stdout",
     "output_type": "stream",
     "text": [
      "DGX has been extracted\n"
     ]
    },
    {
     "name": "stderr",
     "output_type": "stream",
     "text": [
      "/var/folders/4g/011mcyls15v476x5cqlrm5sm0000gn/T/ipykernel_2243/1333826002.py:14: SettingWithCopyWarning: \n",
      "A value is trying to be set on a copy of a slice from a DataFrame.\n",
      "Try using .loc[row_indexer,col_indexer] = value instead\n",
      "\n",
      "See the caveats in the documentation: https://pandas.pydata.org/pandas-docs/stable/user_guide/indexing.html#returning-a-view-versus-a-copy\n",
      "  isolate[\"Symbol\"] = symbol\n"
     ]
    },
    {
     "name": "stdout",
     "output_type": "stream",
     "text": [
      "LH has been extracted\n"
     ]
    },
    {
     "name": "stderr",
     "output_type": "stream",
     "text": [
      "/var/folders/4g/011mcyls15v476x5cqlrm5sm0000gn/T/ipykernel_2243/1333826002.py:14: SettingWithCopyWarning: \n",
      "A value is trying to be set on a copy of a slice from a DataFrame.\n",
      "Try using .loc[row_indexer,col_indexer] = value instead\n",
      "\n",
      "See the caveats in the documentation: https://pandas.pydata.org/pandas-docs/stable/user_guide/indexing.html#returning-a-view-versus-a-copy\n",
      "  isolate[\"Symbol\"] = symbol\n"
     ]
    },
    {
     "name": "stdout",
     "output_type": "stream",
     "text": [
      "CNC has been extracted\n"
     ]
    },
    {
     "name": "stderr",
     "output_type": "stream",
     "text": [
      "/var/folders/4g/011mcyls15v476x5cqlrm5sm0000gn/T/ipykernel_2243/1333826002.py:14: SettingWithCopyWarning: \n",
      "A value is trying to be set on a copy of a slice from a DataFrame.\n",
      "Try using .loc[row_indexer,col_indexer] = value instead\n",
      "\n",
      "See the caveats in the documentation: https://pandas.pydata.org/pandas-docs/stable/user_guide/indexing.html#returning-a-view-versus-a-copy\n",
      "  isolate[\"Symbol\"] = symbol\n"
     ]
    },
    {
     "name": "stdout",
     "output_type": "stream",
     "text": [
      "CI has been extracted\n"
     ]
    },
    {
     "name": "stderr",
     "output_type": "stream",
     "text": [
      "/var/folders/4g/011mcyls15v476x5cqlrm5sm0000gn/T/ipykernel_2243/1333826002.py:14: SettingWithCopyWarning: \n",
      "A value is trying to be set on a copy of a slice from a DataFrame.\n",
      "Try using .loc[row_indexer,col_indexer] = value instead\n",
      "\n",
      "See the caveats in the documentation: https://pandas.pydata.org/pandas-docs/stable/user_guide/indexing.html#returning-a-view-versus-a-copy\n",
      "  isolate[\"Symbol\"] = symbol\n"
     ]
    },
    {
     "name": "stdout",
     "output_type": "stream",
     "text": [
      "MRK has been extracted\n"
     ]
    },
    {
     "name": "stderr",
     "output_type": "stream",
     "text": [
      "/var/folders/4g/011mcyls15v476x5cqlrm5sm0000gn/T/ipykernel_2243/1333826002.py:14: SettingWithCopyWarning: \n",
      "A value is trying to be set on a copy of a slice from a DataFrame.\n",
      "Try using .loc[row_indexer,col_indexer] = value instead\n",
      "\n",
      "See the caveats in the documentation: https://pandas.pydata.org/pandas-docs/stable/user_guide/indexing.html#returning-a-view-versus-a-copy\n",
      "  isolate[\"Symbol\"] = symbol\n"
     ]
    },
    {
     "name": "stdout",
     "output_type": "stream",
     "text": [
      "CAH has been extracted\n"
     ]
    },
    {
     "name": "stderr",
     "output_type": "stream",
     "text": [
      "/var/folders/4g/011mcyls15v476x5cqlrm5sm0000gn/T/ipykernel_2243/1333826002.py:14: SettingWithCopyWarning: \n",
      "A value is trying to be set on a copy of a slice from a DataFrame.\n",
      "Try using .loc[row_indexer,col_indexer] = value instead\n",
      "\n",
      "See the caveats in the documentation: https://pandas.pydata.org/pandas-docs/stable/user_guide/indexing.html#returning-a-view-versus-a-copy\n",
      "  isolate[\"Symbol\"] = symbol\n"
     ]
    },
    {
     "name": "stdout",
     "output_type": "stream",
     "text": [
      "BIO has been extracted\n",
      "ABC has been extracted\n"
     ]
    },
    {
     "name": "stderr",
     "output_type": "stream",
     "text": [
      "/var/folders/4g/011mcyls15v476x5cqlrm5sm0000gn/T/ipykernel_2243/1333826002.py:14: SettingWithCopyWarning: \n",
      "A value is trying to be set on a copy of a slice from a DataFrame.\n",
      "Try using .loc[row_indexer,col_indexer] = value instead\n",
      "\n",
      "See the caveats in the documentation: https://pandas.pydata.org/pandas-docs/stable/user_guide/indexing.html#returning-a-view-versus-a-copy\n",
      "  isolate[\"Symbol\"] = symbol\n"
     ]
    }
   ],
   "source": [
    "list_of_df = []\n",
    "\n",
    "print(\"Begin Extraction of Ticker\")\n",
    "\n",
    "for symbol in symbols:\n",
    "    \n",
    "    extract = yf.Ticker(symbol)\n",
    "    financials = extract.financials\n",
    "    financials = financials.transpose()\n",
    "    importance = [\"Net Income\", \"Other Operating Expenses\", \"Research Development\", \"Gross Profit\"]\n",
    "    \n",
    "    isolate = financials[importance]\n",
    "    \n",
    "    isolate.loc[:,\"Symbol\"] = symbol \n",
    "    \n",
    "    list_of_df.append(isolate)\n",
    "    \n",
    "    print(f\"{symbol} has been extracted\")\n",
    "    "
   ]
  },
  {
   "cell_type": "code",
   "execution_count": 71,
   "id": "6eabdead",
   "metadata": {},
   "outputs": [],
   "source": [
    "consolidated_financials = pd.concat(list_of_df, axis = 0)"
   ]
  },
  {
   "cell_type": "code",
   "execution_count": 96,
   "id": "ed055712",
   "metadata": {},
   "outputs": [
    {
     "data": {
      "text/html": [
       "<div>\n",
       "<style scoped>\n",
       "    .dataframe tbody tr th:only-of-type {\n",
       "        vertical-align: middle;\n",
       "    }\n",
       "\n",
       "    .dataframe tbody tr th {\n",
       "        vertical-align: top;\n",
       "    }\n",
       "\n",
       "    .dataframe thead th {\n",
       "        text-align: right;\n",
       "    }\n",
       "</style>\n",
       "<table border=\"1\" class=\"dataframe\">\n",
       "  <thead>\n",
       "    <tr style=\"text-align: right;\">\n",
       "      <th></th>\n",
       "      <th>Net Income</th>\n",
       "      <th>Other Operating Expenses</th>\n",
       "      <th>Research Development</th>\n",
       "      <th>Gross Profit</th>\n",
       "      <th>Symbol</th>\n",
       "    </tr>\n",
       "    <tr>\n",
       "      <th></th>\n",
       "      <th></th>\n",
       "      <th></th>\n",
       "      <th></th>\n",
       "      <th></th>\n",
       "      <th></th>\n",
       "    </tr>\n",
       "  </thead>\n",
       "  <tbody>\n",
       "    <tr>\n",
       "      <th>2022-09-30</th>\n",
       "      <td>1.698820e+09</td>\n",
       "      <td>0.0</td>\n",
       "      <td>0.0</td>\n",
       "      <td>8.334565e+09</td>\n",
       "      <td>ABC</td>\n",
       "    </tr>\n",
       "    <tr>\n",
       "      <th>2021-09-30</th>\n",
       "      <td>1.539932e+09</td>\n",
       "      <td>0.0</td>\n",
       "      <td>0.0</td>\n",
       "      <td>6.774434e+09</td>\n",
       "      <td>ABC</td>\n",
       "    </tr>\n",
       "    <tr>\n",
       "      <th>2020-09-30</th>\n",
       "      <td>-3.408716e+09</td>\n",
       "      <td>0.0</td>\n",
       "      <td>0.0</td>\n",
       "      <td>5.195364e+09</td>\n",
       "      <td>ABC</td>\n",
       "    </tr>\n",
       "    <tr>\n",
       "      <th>2019-09-30</th>\n",
       "      <td>8.553650e+08</td>\n",
       "      <td>0.0</td>\n",
       "      <td>0.0</td>\n",
       "      <td>5.138312e+09</td>\n",
       "      <td>ABC</td>\n",
       "    </tr>\n",
       "  </tbody>\n",
       "</table>\n",
       "</div>"
      ],
      "text/plain": [
       "              Net Income  Other Operating Expenses  Research Development  \\\n",
       "                                                                           \n",
       "2022-09-30  1.698820e+09                       0.0                   0.0   \n",
       "2021-09-30  1.539932e+09                       0.0                   0.0   \n",
       "2020-09-30 -3.408716e+09                       0.0                   0.0   \n",
       "2019-09-30  8.553650e+08                       0.0                   0.0   \n",
       "\n",
       "            Gross Profit Symbol  \n",
       "                                 \n",
       "2022-09-30  8.334565e+09    ABC  \n",
       "2021-09-30  6.774434e+09    ABC  \n",
       "2020-09-30  5.195364e+09    ABC  \n",
       "2019-09-30  5.138312e+09    ABC  "
      ]
     },
     "execution_count": 96,
     "metadata": {},
     "output_type": "execute_result"
    }
   ],
   "source": [
    "consolidated_financials[consolidated_financials[\"Symbol\"] == \"ABC\"]"
   ]
  },
  {
   "cell_type": "code",
   "execution_count": null,
   "id": "38ec1d89",
   "metadata": {},
   "outputs": [],
   "source": []
  },
  {
   "cell_type": "code",
   "execution_count": 89,
   "id": "480b259f",
   "metadata": {},
   "outputs": [],
   "source": [
    "for column in importance:\n",
    "    consolidated_financials[column] = consolidated_financials[column].astype(str)\n",
    "    consolidated_financials[column] = consolidated_financials[column].str.replace(\"None\", '0')\n",
    "    consolidated_financials[column] = consolidated_financials[column].astype(float)"
   ]
  }
 ],
 "metadata": {
  "kernelspec": {
   "display_name": "Python 3 (ipykernel)",
   "language": "python",
   "name": "python3"
  },
  "language_info": {
   "codemirror_mode": {
    "name": "ipython",
    "version": 3
   },
   "file_extension": ".py",
   "mimetype": "text/x-python",
   "name": "python",
   "nbconvert_exporter": "python",
   "pygments_lexer": "ipython3",
   "version": "3.9.12"
  }
 },
 "nbformat": 4,
 "nbformat_minor": 5
}
